{
 "cells": [
  {
   "cell_type": "code",
   "execution_count": 1,
   "id": "00132da8-5618-4bfe-996a-7fd08f617fd1",
   "metadata": {},
   "outputs": [],
   "source": [
    "import numpy as np\n",
    "from matplotlib import pyplot as plt"
   ]
  },
  {
   "cell_type": "code",
   "execution_count": 38,
   "id": "d5d8e9c9-3de4-4d1b-9198-6efb5883cb23",
   "metadata": {},
   "outputs": [],
   "source": [
    "class Room():\n",
    "\n",
    "    def __init__(self, m, n):\n",
    "        \n",
    "        self.xmax = m\n",
    "        self.ymax = n\n",
    "        self.hx = 0.1\n",
    "        self.hy = 0.1\n",
    "        self.ht = 0.001\n",
    "        self.xdim = int(self.xmax/self.hx)\n",
    "        self.ydim = int(self.ymax/self.hy)\n",
    "        self.room = np.empty(shape = (self.ydim,self.xdim))\n",
    "        self.windows = None\n",
    "        self.heaters = None\n",
    "\n",
    "    #def "
   ]
  },
  {
   "cell_type": "code",
   "execution_count": 40,
   "id": "28094a3f-8baf-4b30-838f-0dd94816ac62",
   "metadata": {},
   "outputs": [],
   "source": [
    "room = Room(m = 3, n = 2)"
   ]
  },
  {
   "cell_type": "code",
   "execution_count": 48,
   "id": "cd71fa8d-f6fe-4a4c-8627-c96247774001",
   "metadata": {},
   "outputs": [],
   "source": [
    "#room.room"
   ]
  }
 ],
 "metadata": {
  "kernelspec": {
   "display_name": "Python [conda env:base] *",
   "language": "python",
   "name": "conda-base-py"
  },
  "language_info": {
   "codemirror_mode": {
    "name": "ipython",
    "version": 3
   },
   "file_extension": ".py",
   "mimetype": "text/x-python",
   "name": "python",
   "nbconvert_exporter": "python",
   "pygments_lexer": "ipython3",
   "version": "3.11.5"
  }
 },
 "nbformat": 4,
 "nbformat_minor": 5
}
